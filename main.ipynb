{
 "cells": [
  {
   "cell_type": "markdown",
   "metadata": {},
   "source": [
    "## Project Overview \n",
    "\n",
    "This project explores various machine learning algorithms for a binary classification task using the Heart Failure Prediction dataset from Kaggle. The dataset contains 918 observations with 12 attributes, where the target variable (y) is \"HeartDisease\":\n",
    "* 0: No heart failure\n",
    "* 1: Heart failure\n",
    "\n",
    "Link to the dataset in [Kaggle](https://www.kaggle.com/datasets/fedesoriano/heart-failure-prediction)\n",
    "\n",
    "### Objective\n",
    "The goal is to compare the performance of different machine learning models in predicting heart failure.\n",
    "\n",
    "\n",
    "### Machine Learning Models Considered\n",
    "The following classification algorithms will be implemented and evaluated:\n",
    "* Logistic Regression Classifier\n",
    "* Support Vector Machine (SVM) Classifier\n",
    "* Random Forest Classifier\n",
    "* Gradient Boosting Classifier\n",
    "* Multi-Layer Perceptron (MLP) Classifier\n"
   ]
  },
  {
   "cell_type": "code",
   "execution_count": 16,
   "metadata": {},
   "outputs": [],
   "source": [
    "# Libraries for the Project\n",
    "import pandas as pd\n",
    "import seaborn as sns\n",
    "import matplotlib.pyplot as plt\n",
    "\n",
    "from sklearn.model_selection import train_test_split, GridSearchCV\n",
    "from sklearn.metrics import accuracy_score, classification_report, ConfusionMatrixDisplay\n",
    "from sklearn.ensemble import RandomForestClassifier, GradientBoostingClassifier\n",
    "from sklearn.linear_model import LogisticRegression\n",
    "from sklearn.preprocessing import MinMaxScaler\n",
    "from sklearn.svm import SVC \n",
    "from sklearn.neural_network import MLPClassifier\n",
    "\n",
    "# Setting the style of the plots\n",
    "sns.set_theme(style=\"darkgrid\", palette=\"pastel\")"
   ]
  },
  {
   "cell_type": "markdown",
   "metadata": {},
   "source": [
    "### Heart Failure Prediction Dataset overview "
   ]
  },
  {
   "cell_type": "code",
   "execution_count": null,
   "metadata": {},
   "outputs": [],
   "source": [
    "df = pd.read_csv('heart.csv')\n",
    "df.head()"
   ]
  },
  {
   "cell_type": "code",
   "execution_count": null,
   "metadata": {},
   "outputs": [],
   "source": [
    "df.describe()"
   ]
  },
  {
   "cell_type": "code",
   "execution_count": null,
   "metadata": {},
   "outputs": [],
   "source": [
    "corr_matrix_numeric_values = df.corr(method='pearson', numeric_only=True)\n",
    "sns.heatmap(corr_matrix_numeric_values, annot=True, cmap='coolwarm', fmt='.2f')\n",
    "plt.title('Correlation Matrix')\n",
    "plt.show()"
   ]
  },
  {
   "cell_type": "markdown",
   "metadata": {},
   "source": [
    "The correlation matrix shows that the dataset attributes do not exhibit a high correlation with one another."
   ]
  },
  {
   "cell_type": "markdown",
   "metadata": {},
   "source": [
    "### Data Preprocessing\n",
    "\n",
    "The dataset includes categorical variables that need to be one-hot encoded. To accomplish this, we will use the `get_dummies()` function from pandas to encode the categorical attributes.\n"
   ]
  },
  {
   "cell_type": "code",
   "execution_count": null,
   "metadata": {},
   "outputs": [],
   "source": [
    "df_encoded = pd.get_dummies(df, columns=['Sex', 'ChestPainType', 'RestingECG', 'ExerciseAngina', 'ST_Slope'], dtype=int, drop_first=True)\n",
    "df_encoded.head()"
   ]
  },
  {
   "cell_type": "code",
   "execution_count": null,
   "metadata": {},
   "outputs": [],
   "source": [
    "# scale the data using MinMaxScaler\n",
    "scaler = MinMaxScaler()\n",
    "\n",
    "X = df_encoded.drop('HeartDisease', axis=1)\n",
    "y = df_encoded['HeartDisease']\n",
    "\n",
    "X_train, X_test, y_train, y_test = train_test_split(X, y, test_size=0.2, random_state=42)\n",
    "\n",
    "X_train = scaler.fit_transform(X_train)\n",
    "X_test = scaler.transform(X_test)\n",
    "print(X_train.shape, X_test.shape)"
   ]
  },
  {
   "cell_type": "markdown",
   "metadata": {},
   "source": [
    "### Logistic Regression Model"
   ]
  },
  {
   "cell_type": "code",
   "execution_count": null,
   "metadata": {},
   "outputs": [],
   "source": [
    "# Logistic Regression\n",
    "parameters = {'C': [0.001, 0.01, 0.1, 1, 10, 100, 1000], 'penalty': ['l1', 'l2']}\n",
    "\n",
    "log_reg = LogisticRegression(solver='liblinear')\n",
    "log_reg_cv = GridSearchCV(log_reg, parameters, cv=5, n_jobs=-1)\n",
    "log_reg_cv.fit(X_train, y_train)\n",
    "predictions = log_reg_cv.predict(X_test)\n",
    "acc_log_reg = accuracy_score(y_test, predictions)\n",
    "\n",
    "print(f'Best parameters: {log_reg_cv.best_params_}')\n",
    "print(f'Best score: {log_reg_cv.best_score_}')\n",
    "print(f'Accuracy: {acc_log_reg}')\n",
    "print(f'Classification report: \\n{classification_report(y_test, predictions)}')\n",
    "\n",
    "# Confusion Matrix for Logistic Regression\n",
    "ConfusionMatrixDisplay.from_predictions(y_test, predictions, cmap='Blues', values_format='d')\n",
    "plt.title('Confusion Matrix for Logistic Regression')\n",
    "plt.show()"
   ]
  },
  {
   "cell_type": "markdown",
   "metadata": {},
   "source": [
    "### Support Vector Machine (SVM) Model "
   ]
  },
  {
   "cell_type": "code",
   "execution_count": null,
   "metadata": {},
   "outputs": [],
   "source": [
    "# SVM Classifier\n",
    "parameters = {\n",
    "    'C': [0.1, 1, 10, 100, 1000],\n",
    "    'gamma': [1, 0.1, 0.01, 0.001, 0.0001],\n",
    "    'kernel': ['rbf']\n",
    "}\n",
    "\n",
    "svc = SVC()\n",
    "svc_cv = GridSearchCV(svc, parameters, cv=5, n_jobs=-1)\n",
    "svc_cv.fit(X_train, y_train)\n",
    "predictions = svc_cv.predict(X_test)\n",
    "acc_svc = accuracy_score(y_test, predictions)\n",
    "\n",
    "print(f'Best parameters: {svc_cv.best_params_}')\n",
    "print(f'Best score: {svc_cv.best_score_}')\n",
    "print(f'Accuracy: {acc_svc}')\n",
    "print(f'Classification report: \\n{classification_report(y_test, predictions)}')\n",
    "\n",
    "ConfusionMatrixDisplay.from_predictions(y_test, predictions, cmap='Blues', values_format='d')\n",
    "plt.title('Confusion Matrix for SVM Classifier')\n",
    "plt.show()"
   ]
  },
  {
   "cell_type": "markdown",
   "metadata": {},
   "source": [
    "### Data Preprocessing Again\n",
    "\n",
    "But now `drop_first = False`"
   ]
  },
  {
   "cell_type": "code",
   "execution_count": null,
   "metadata": {},
   "outputs": [],
   "source": [
    "df_encoded = pd.get_dummies(df, columns=['Sex', 'ChestPainType', 'RestingECG', 'ExerciseAngina', 'ST_Slope'], dtype=int)\n",
    "df_encoded.head()"
   ]
  },
  {
   "cell_type": "code",
   "execution_count": null,
   "metadata": {},
   "outputs": [],
   "source": [
    "# scale the data using MinMaxScaler\n",
    "scaler = MinMaxScaler()\n",
    "\n",
    "X = df_encoded.drop('HeartDisease', axis=1)\n",
    "y = df_encoded['HeartDisease']\n",
    "\n",
    "X_train, X_test, y_train, y_test = train_test_split(X, y, test_size=0.2, random_state=42)\n",
    "\n",
    "X_train = scaler.fit_transform(X_train)\n",
    "X_test = scaler.transform(X_test)\n",
    "print(X_train.shape, X_test.shape)"
   ]
  },
  {
   "cell_type": "markdown",
   "metadata": {},
   "source": [
    "### Random Forest Model "
   ]
  },
  {
   "cell_type": "code",
   "execution_count": null,
   "metadata": {},
   "outputs": [],
   "source": [
    "parameters = {\n",
    "    'n_estimators': [10, 50, 100, 200, 500],\n",
    "    'max_depth': [3, 5, 7, 9, 11],\n",
    "}\n",
    "\n",
    "rf = RandomForestClassifier()\n",
    "rf_cv = GridSearchCV(rf, parameters, cv=5, n_jobs=-1)\n",
    "rf_cv.fit(X_train, y_train)\n",
    "predictions = rf_cv.predict(X_test)\n",
    "acc_rf = accuracy_score(y_test, predictions)\n",
    "\n",
    "print(f'Best parameters: {rf_cv.best_params_}')\n",
    "print(f'Best score: {rf_cv.best_score_}')\n",
    "print(f'Accuracy: {acc_rf}')\n",
    "print(f'Classification report: \\n{classification_report(y_test, predictions)}')\n",
    "\n",
    "ConfusionMatrixDisplay.from_predictions(y_test, predictions, cmap='Blues', values_format='d')\n",
    "plt.title('Confusion Matrix for Random Forest Classifier')\n",
    "plt.show()"
   ]
  },
  {
   "cell_type": "markdown",
   "metadata": {},
   "source": [
    "### Gradient Boosting Model"
   ]
  },
  {
   "cell_type": "code",
   "execution_count": null,
   "metadata": {},
   "outputs": [],
   "source": [
    "parameters = {\n",
    "    'learning_rate': [0.001, 0.01, 0.1],\n",
    "    'n_estimators': [10, 50, 100, 200, 500],\n",
    "    'max_depth': [3, 5, 7, 9, 11],\n",
    "}\n",
    "\n",
    "gradiant_boosting = GradientBoostingClassifier()\n",
    "gradiant_boosting_cv = GridSearchCV(gradiant_boosting, parameters, cv=5, n_jobs=-1)\n",
    "gradiant_boosting_cv.fit(X_train, y_train)\n",
    "predictions = gradiant_boosting_cv.predict(X_test)\n",
    "acc_gradiant_boosting = accuracy_score(y_test, predictions)\n",
    "\n",
    "print(f'Best parameters: {gradiant_boosting_cv.best_params_}')\n",
    "print(f'Best score: {gradiant_boosting_cv.best_score_}')\n",
    "print(f'Accuracy: {acc_gradiant_boosting}')\n",
    "print(f'Classification report: \\n{classification_report(y_test, predictions)}')\n",
    "\n",
    "ConfusionMatrixDisplay.from_predictions(y_test, predictions, cmap='Blues', values_format='d')\n",
    "plt.title('Confusion Matrix for Gradient Boosting Classifier')\n",
    "plt.show()"
   ]
  },
  {
   "cell_type": "markdown",
   "metadata": {},
   "source": [
    "#### Multi-Layer Perceptron (MLP) Model"
   ]
  },
  {
   "cell_type": "code",
   "execution_count": null,
   "metadata": {},
   "outputs": [],
   "source": [
    "parameters = {\n",
    "    'hidden_layer_sizes': [(20, 10), (30, 15), (40, 20), (50, 25), (64, 32)],\n",
    "    'activation': ['relu'], \n",
    "    'solver': ['adam'],\n",
    "    'max_iter': [500, 1000, 1500],\n",
    "    'alpha': [0.0001, 0.001, 0.01, 0.1],\n",
    "    'learning_rate_init': [0.001, 0.005, 0.01],\n",
    "    'early_stopping': [True],\n",
    "}\n",
    "\n",
    "mlp = MLPClassifier(random_state=42)\n",
    "mlp_cv = GridSearchCV(mlp, parameters, cv=5, n_jobs=-1)\n",
    "mlp_cv.fit(X_train, y_train)\n",
    "predictions = mlp_cv.predict(X_test)\n",
    "acc_mlp = accuracy_score(y_test, predictions)\n",
    "\n",
    "print(f'Best parameters: {mlp_cv.best_params_}')\n",
    "print(f'Best score: {mlp_cv.best_score_}')\n",
    "print(f'Accuracy: {acc_mlp}')\n",
    "print(f'Classification report: \\n{classification_report(y_test, predictions)}')\n",
    "\n",
    "ConfusionMatrixDisplay.from_predictions(y_test, predictions, cmap='Blues', values_format='d')\n",
    "plt.title('Confusion Matrix for Neural Network')\n",
    "plt.show()"
   ]
  },
  {
   "cell_type": "markdown",
   "metadata": {},
   "source": [
    "### Results"
   ]
  },
  {
   "cell_type": "code",
   "execution_count": null,
   "metadata": {},
   "outputs": [],
   "source": [
    "print('Accuracy for Logistic Regression:', acc_log_reg)\n",
    "print('Accuracy for SVM Classifier:', acc_svc)\n",
    "print('Accuracy for Random Forest Classifier:', acc_rf)\n",
    "print('Accuracy for Gradient Boosting Classifier:', acc_gradiant_boosting)\n",
    "print('Accuracy for MLP Classifier:', acc_mlp)"
   ]
  },
  {
   "cell_type": "code",
   "execution_count": null,
   "metadata": {},
   "outputs": [],
   "source": []
  }
 ],
 "metadata": {
  "kernelspec": {
   "display_name": ".venv",
   "language": "python",
   "name": "python3"
  },
  "language_info": {
   "codemirror_mode": {
    "name": "ipython",
    "version": 3
   },
   "file_extension": ".py",
   "mimetype": "text/x-python",
   "name": "python",
   "nbconvert_exporter": "python",
   "pygments_lexer": "ipython3",
   "version": "3.12.3"
  }
 },
 "nbformat": 4,
 "nbformat_minor": 2
}
